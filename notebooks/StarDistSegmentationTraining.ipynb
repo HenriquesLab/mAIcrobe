{
 "cells": [
  {
   "cell_type": "markdown",
   "metadata": {},
   "source": [
    "# StarDist training for napari-mAIcrobe in Google Colab\n",
    "---\n",
    "\n",
    "This notebook is heavily inspired by the 2D demo notebook provided by the StarDist authors: \n",
    "\n",
    "https://github.com/stardist/stardist/blob/main/examples/2D/2_training.ipynb\n",
    "\n",
    "This notebook is adapted to the use case of napari-mAIcrobe, and specifically to the segmentation of *S. aureus* cells in the membrane dye (Nile Red) channel.\n",
    "\n",
    "Patch calculation assume images are 2430x2430. You might need to adapt the code if your images are of different size.\n",
    "By default it performs data augmentation using random rotations and flips. You might want to adapt this to your use case.\n"
   ]
  },
  {
   "cell_type": "code",
   "execution_count": null,
   "metadata": {
    "colab": {
     "base_uri": "https://localhost:8080/"
    },
    "executionInfo": {
     "elapsed": 35887,
     "status": "ok",
     "timestamp": 1717506589455,
     "user": {
      "displayName": "Antonio Brito",
      "userId": "04088187791998130442"
     },
     "user_tz": -60
    },
    "id": "ziakGA_xrPNI",
    "outputId": "294e7a16-f3d3-4f90-88df-25821c6a3f9b"
   },
   "outputs": [],
   "source": [
    "!pip install csbdeep\n",
    "!pip install tifffile # contains tools to operate tiff-files\n",
    "!pip install stardist # contains tools to operate STARDIST.\n",
    "!pip install gputools # improves STARDIST performances"
   ]
  },
  {
   "cell_type": "code",
   "execution_count": null,
   "metadata": {
    "id": "7z4o-cZu6Mbc"
   },
   "outputs": [],
   "source": [
    "import time\n",
    "import sys\n",
    "import tensorflow as tf\n",
    "import numpy as np\n",
    "import matplotlib.pyplot as plt\n",
    "%matplotlib inline\n",
    "%config InlineBackend.figure_format = 'retina'\n",
    "\n",
    "from glob import glob\n",
    "from tqdm import tqdm\n",
    "from tifffile import imread\n",
    "from csbdeep.utils import Path, normalize\n",
    "\n",
    "from stardist import fill_label_holes, random_label_cmap, calculate_extents, gputools_available\n",
    "from stardist.models import Config2D, StarDist2D\n",
    "\n",
    "from skimage.util.shape import view_as_blocks\n",
    "\n",
    "from itertools import product, chain\n",
    "\n",
    "np.random.seed(12)\n",
    "lbl_cmap = random_label_cmap()\n",
    "\n",
    "IN_COLAB = 'google.colab' in sys.modules\n",
    "if IN_COLAB:\n",
    "    from google.colab import output\n",
    "    output.enable_custom_widget_manager()\n",
    "    from google.colab import drive\n",
    "    drive.mount('/content/drive')\n",
    "\n",
    "def crop_and_block(img):\n",
    "    blockies = view_as_blocks(img[63:-63,63:-63],block_shape=(256,256))\n",
    "    croppies = [blockies[i,j,:,:] for i,j in product(range(9),repeat=2)]\n",
    "    return croppies\n",
    "\n",
    "def plot_img_label(img, lbl, img_title=\"image\", lbl_title=\"label\", **kwargs):\n",
    "    fig, (ai,al) = plt.subplots(1,2, figsize=(12,5), gridspec_kw=dict(width_ratios=(1.25,1)))\n",
    "    im = ai.imshow(img, cmap='gray', clim=(0,1))\n",
    "    ai.set_title(img_title)\n",
    "    fig.colorbar(im, ax=ai)\n",
    "    al.imshow(lbl, cmap=lbl_cmap)\n",
    "    al.set_title(lbl_title)\n",
    "    plt.tight_layout()\n",
    "\n",
    "def random_fliprot(img, mask):\n",
    "    assert img.ndim >= mask.ndim\n",
    "    axes = tuple(range(mask.ndim))\n",
    "    perm = tuple(np.random.permutation(axes))\n",
    "    img = img.transpose(perm + tuple(range(mask.ndim, img.ndim)))\n",
    "    mask = mask.transpose(perm)\n",
    "    for ax in axes:\n",
    "        if np.random.rand() > 0.5:\n",
    "            img = np.flip(img, axis=ax)\n",
    "            mask = np.flip(mask, axis=ax)\n",
    "    return img, mask\n",
    "\n",
    "def random_intensity_change(img):\n",
    "    img = img*np.random.uniform(0.6,2) + np.random.uniform(-0.2,0.2)\n",
    "    return img\n",
    "\n",
    "\n",
    "def augmenter(x, y):\n",
    "    \"\"\"Augmentation of a single input/label image pair.\n",
    "    x is an input image\n",
    "    y is the corresponding ground-truth label image\n",
    "    \"\"\"\n",
    "    x, y = random_fliprot(x, y)\n",
    "    x = random_intensity_change(x)\n",
    "    # add some gaussian noise\n",
    "    sig = 0.02*np.random.uniform(0,1)\n",
    "    x = x + sig*np.random.normal(0,1,x.shape)\n",
    "    return x, y"
   ]
  },
  {
   "cell_type": "markdown",
   "metadata": {},
   "source": [
    "# User input"
   ]
  },
  {
   "cell_type": "code",
   "execution_count": null,
   "metadata": {},
   "outputs": [],
   "source": [
    "#@title ## User input\n",
    "\n",
    "#@markdown ###Load data:\n",
    "Training_source = '' #@param {type:\"string\"}\n",
    "Training_target = '' #@param {type:\"string\"}\n",
    "\n",
    "#@markdown ###Model parameters:\n",
    "# 32 is a good default choice (see 1_data.ipynb)\n",
    "n_rays = 32 #@param {type:\"integer\"}\n",
    "\n",
    "gridx = 2 #@param {type:\"integer\"}\n",
    "gridy = 2 #@param {type:\"integer\"}\n",
    "\n",
    "batch_size = 4 #@param {type:\"integer\"}\n",
    "patch_size = 256 #@param {type:\"integer\"}\n",
    "\n",
    "learning_rate = 0.0003 #@param {type:\"number\"}\n",
    "\n",
    "valsplit = 0.15 #@param {type:\"number\"}\n",
    "\n",
    "modelname = '' #@param {type:\"string\"}\n",
    "modelpath = '' #@param {type:\"string\"}\n",
    "pretrainedmodelpath = '' #@param {type:\"string\"}\n",
    "\n",
    "#@markdown ###Training parameters:\n",
    "n_epochs = 300 #@param {type:\"integer\"}\n",
    "steps_per_epoch = 400 #@param {type:\"integer\"}\n"
   ]
  },
  {
   "cell_type": "markdown",
   "metadata": {},
   "source": [
    "# Load data"
   ]
  },
  {
   "cell_type": "code",
   "execution_count": null,
   "metadata": {
    "id": "0DcN38CiCPMJ"
   },
   "outputs": [],
   "source": [
    "X_ = sorted(glob(Training_source + '/*.tif'))\n",
    "Y_ = sorted(glob(Training_target + '/*.tif'))\n",
    "assert all(Path(x).name==Path(y).name for x,y in zip(X_,Y_))\n",
    "\n",
    "X_img = list(map(imread,X_)) \n",
    "Y_img = list(map(imread,Y_)) \n",
    "\n",
    "print(len(X_img),X_img[0].shape)\n",
    "print(len(Y_img),Y_img[0].shape)\n",
    "\n",
    "X_split = list(map(crop_and_block,X_img))\n",
    "X = list(chain(*X_split))\n",
    "\n",
    "Y_split = list(map(crop_and_block,Y_img))\n",
    "Y = list(chain(*Y_split))\n",
    "\n",
    "print(len(X),X[0].shape,X[-1].shape)\n",
    "print(len(Y),Y[0].shape,Y[-1].shape)\n",
    "\n",
    "n_channel = 1 if X[0].ndim == 2 else X[0].shape[-1]\n",
    "X = [normalize(x,1,99.8,axis=(0,1)) for x in tqdm(X)]\n",
    "Y = [fill_label_holes(y) for y in tqdm(Y)]\n",
    "\n",
    "rng = np.random.RandomState(12)\n",
    "ind = rng.permutation(len(X))\n",
    "n_val = max(1, int(round(valsplit * len(ind))))\n",
    "ind_train, ind_val = ind[:-n_val], ind[-n_val:]\n",
    "X_val, Y_val = [X[i] for i in ind_val]  , [Y[i] for i in ind_val]\n",
    "X_trn, Y_trn = [X[i] for i in ind_train], [Y[i] for i in ind_train]\n",
    "print('number of images: %3d' % len(X))\n",
    "print('- training:       %3d' % len(X_trn))\n",
    "print('- validation:     %3d' % len(X_val))\n",
    "\n",
    "i = min(12, len(X)-1)\n",
    "img, lbl = X[i], Y[i]\n",
    "assert img.ndim in (2,3)\n",
    "img = img if (img.ndim==2 or img.shape[-1]==3) else img[...,0]\n",
    "plot_img_label(img,lbl)\n",
    "None;"
   ]
  },
  {
   "cell_type": "markdown",
   "metadata": {},
   "source": [
    "# Load model"
   ]
  },
  {
   "cell_type": "code",
   "execution_count": null,
   "metadata": {
    "colab": {
     "base_uri": "https://localhost:8080/"
    },
    "executionInfo": {
     "elapsed": 8096,
     "status": "ok",
     "timestamp": 1717506899714,
     "user": {
      "displayName": "Antonio Brito",
      "userId": "04088187791998130442"
     },
     "user_tz": -60
    },
    "id": "ABtYfVdDGNLY",
    "outputId": "ddd32df6-a3fa-4ea7-8145-3ea3a70b6fec"
   },
   "outputs": [],
   "source": [
    "# Use OpenCL-based computations for data generator during training (requires 'gputools')\n",
    "use_gpu = False and gputools_available()\n",
    "\n",
    "\n",
    "conf = Config2D (\n",
    "    n_rays       = n_rays,\n",
    "    grid         = (gridx, gridy),\n",
    "    use_gpu      = False,\n",
    "    n_channel_in = n_channel,\n",
    "    train_batch_size = batch_size,\n",
    "    train_patch_size = (patch_size, patch_size),\n",
    "    train_learning_rate = learning_rate)\n",
    "\n",
    "if use_gpu:\n",
    "    from csbdeep.utils.tf import limit_gpu_memory\n",
    "    # adjust as necessary: limit GPU memory to be used by TensorFlow to leave some to OpenCL-based computations\n",
    "    limit_gpu_memory(None, allow_growth=True)\n",
    "\n",
    "model = StarDist2D(conf, name=modelname, basedir=modelpath)\n",
    "model.load_weights(pretrainedmodelpath)\n",
    "\n",
    "median_size = calculate_extents(list(Y), np.median)\n",
    "fov = np.array(model._axes_tile_overlap('YX'))\n",
    "print(f\"median object size:      {median_size}\")\n",
    "print(f\"network field of view :  {fov}\")\n",
    "if any(median_size > fov):\n",
    "    print(\"WARNING: median object size larger than field of view of the neural network.\")"
   ]
  },
  {
   "cell_type": "markdown",
   "metadata": {},
   "source": [
    "# Start training"
   ]
  },
  {
   "cell_type": "code",
   "execution_count": null,
   "metadata": {
    "colab": {
     "base_uri": "https://localhost:8080/"
    },
    "executionInfo": {
     "elapsed": 3761417,
     "status": "ok",
     "timestamp": 1717510685175,
     "user": {
      "displayName": "Antonio Brito",
      "userId": "04088187791998130442"
     },
     "user_tz": -60
    },
    "id": "Tm6IALsFMklv",
    "outputId": "57a4195d-e2ec-4853-cec8-96f9f6189b23"
   },
   "outputs": [],
   "source": [
    "start = time.time()\n",
    "history = model.train(X_trn, Y_trn, validation_data=(X_val,Y_val), augmenter=augmenter, epochs=n_epochs, steps_per_epoch=steps_per_epoch)\n",
    "\n",
    "# Displaying the time elapsed for training\n",
    "dt = time.time() - start\n",
    "\n",
    "model.optimize_thresholds(X_val, Y_val)"
   ]
  }
 ],
 "metadata": {
  "accelerator": "GPU",
  "colab": {
   "authorship_tag": "ABX9TyOTYJJq7A9d11nMufDQXEDz",
   "mount_file_id": "1fVG9bz75In_5VDA0Qz4-90rY6grsbrni",
   "provenance": []
  },
  "gpuClass": "standard",
  "kernelspec": {
   "display_name": "Python 3",
   "name": "python3"
  },
  "language_info": {
   "name": "python"
  }
 },
 "nbformat": 4,
 "nbformat_minor": 0
}
